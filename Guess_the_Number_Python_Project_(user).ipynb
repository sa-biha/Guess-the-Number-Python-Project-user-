{
  "nbformat": 4,
  "nbformat_minor": 0,
  "metadata": {
    "colab": {
      "provenance": [],
      "authorship_tag": "ABX9TyPsE44lPltdgzB49flmsZUP",
      "include_colab_link": true
    },
    "kernelspec": {
      "name": "python3",
      "display_name": "Python 3"
    },
    "language_info": {
      "name": "python"
    }
  },
  "cells": [
    {
      "cell_type": "markdown",
      "metadata": {
        "id": "view-in-github",
        "colab_type": "text"
      },
      "source": [
        "<a href=\"https://colab.research.google.com/github/sa-biha/Guess-the-Number-Python-Project-user-/blob/main/Guess_the_Number_Python_Project_(user).ipynb\" target=\"_parent\"><img src=\"https://colab.research.google.com/assets/colab-badge.svg\" alt=\"Open In Colab\"/></a>"
      ]
    },
    {
      "cell_type": "markdown",
      "source": [
        "# ***Guess the Number Python Project (user)***"
      ],
      "metadata": {
        "id": "VfrLyrLFND1b"
      }
    },
    {
      "cell_type": "markdown",
      "source": [],
      "metadata": {
        "id": "Xiag-egfOrIX"
      }
    },
    {
      "cell_type": "markdown",
      "source": [
        "# ***Cell 1: Import Random Module***"
      ],
      "metadata": {
        "id": "DEdvv6tmOuL2"
      }
    },
    {
      "cell_type": "code",
      "source": [
        "# Importing the random module\n",
        "import random"
      ],
      "metadata": {
        "id": "xcKHrOOVOzSh"
      },
      "execution_count": null,
      "outputs": []
    },
    {
      "cell_type": "markdown",
      "source": [
        "# ***Cell 2: Game Instructions***"
      ],
      "metadata": {
        "id": "VIV8ZBFoO9XO"
      }
    },
    {
      "cell_type": "code",
      "source": [
        "# Printing the welcome message and game instructions\n",
        "print(\"Welcome to the Guess the Number Game!\")\n",
        "print(\"Think of a number between 1 and 100, and I will try to guess it.\")\n",
        "print(\"After each guess, respond with:\")\n",
        "print(\"'h' if my guess is too high,\")\n",
        "print(\"'l' if my guess is too low,\")\n",
        "print(\"'c' if my guess is correct.\\n\")"
      ],
      "metadata": {
        "colab": {
          "base_uri": "https://localhost:8080/"
        },
        "id": "sCg454IzPFHL",
        "outputId": "48d1fef7-a60f-477c-cdb6-bcf1c2ea902b"
      },
      "execution_count": null,
      "outputs": [
        {
          "output_type": "stream",
          "name": "stdout",
          "text": [
            "Welcome to the Guess the Number Game!\n",
            "Think of a number between 1 and 100, and I will try to guess it.\n",
            "After each guess, respond with:\n",
            "'h' if my guess is too high,\n",
            "'l' if my guess is too low,\n",
            "'c' if my guess is correct.\n",
            "\n"
          ]
        }
      ]
    },
    {
      "cell_type": "markdown",
      "source": [
        "# ***Cell 3: Main Game Function***"
      ],
      "metadata": {
        "id": "xesjva2hPM9O"
      }
    },
    {
      "cell_type": "code",
      "source": [
        "# Main function for the Guess the Number game\n",
        "def user_number_game():\n",
        "    # Setting the range for guessing\n",
        "    low = 1\n",
        "    high = 100\n",
        "    attempts = 0\n",
        "\n",
        "    # Computer guesses the number\n",
        "    while True:\n",
        "        # Computer makes a guess\n",
        "        guess = random.randint(low, high)\n",
        "        attempts += 1\n",
        "        print(f\"My guess is: {guess}\")\n",
        "\n",
        "        # User provides feedback\n",
        "        feedback = input(\"Is my guess (h)igh, (l)ow, or (c)orrect? \").lower()\n",
        "\n",
        "        if feedback == 'h':\n",
        "            # Guess was too high, adjust range\n",
        "            high = guess - 1\n",
        "        elif feedback == 'l':\n",
        "            # Guess was too low, adjust range\n",
        "            low = guess + 1\n",
        "        elif feedback == 'c':\n",
        "            # Correct guess\n",
        "            print(f\"Yay! I guessed your number {guess} in {attempts} attempts.\")\n",
        "            break\n",
        "        else:\n",
        "            print(\"Invalid input! Please respond with 'h', 'l', or 'c'.\")\n"
      ],
      "metadata": {
        "id": "i4dAONu7PgP7"
      },
      "execution_count": null,
      "outputs": []
    },
    {
      "cell_type": "markdown",
      "source": [
        "# ***Cell 4: Start the Game***"
      ],
      "metadata": {
        "id": "GlDUuZw6PsaT"
      }
    },
    {
      "cell_type": "code",
      "source": [
        "# Run the game\n",
        "user_number_game()"
      ],
      "metadata": {
        "colab": {
          "base_uri": "https://localhost:8080/"
        },
        "id": "dwZECmhdPxb9",
        "outputId": "6a0cac9e-f5df-42f4-cb02-5fa06d3487b0"
      },
      "execution_count": null,
      "outputs": [
        {
          "output_type": "stream",
          "name": "stdout",
          "text": [
            "My guess is: 98\n",
            "Is my guess (h)igh, (l)ow, or (c)orrect? h\n",
            "My guess is: 5\n",
            "Is my guess (h)igh, (l)ow, or (c)orrect? l\n",
            "My guess is: 81\n",
            "Is my guess (h)igh, (l)ow, or (c)orrect? c\n",
            "Yay! I guessed your number 81 in 3 attempts.\n"
          ]
        }
      ]
    }
  ]
}